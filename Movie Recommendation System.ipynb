{
 "cells": [
  {
   "cell_type": "markdown",
   "id": "b2f5a724",
   "metadata": {},
   "source": [
    "# Movie Recommendation System"
   ]
  },
  {
   "cell_type": "markdown",
   "id": "4e25fe5a",
   "metadata": {},
   "source": [
    "* Demographic Filtering\n",
    "* Content-Based Filtering\n",
    "* Collaborative Filtering"
   ]
  },
  {
   "cell_type": "markdown",
   "id": "56aae064",
   "metadata": {},
   "source": [
    "## Demographic Filtering"
   ]
  },
  {
   "cell_type": "code",
   "execution_count": 1,
   "id": "4823a226",
   "metadata": {},
   "outputs": [],
   "source": [
    "import pandas as pd\n",
    "import numpy as np\n",
    "\n",
    "data_frame_1 = pd.read_csv(\"tmdb_5000_credits.csv\")\n",
    "data_frame_2 = pd.read_csv(\"tmdb_5000_movies.csv\")"
   ]
  },
  {
   "cell_type": "code",
   "execution_count": 2,
   "id": "676f2d13",
   "metadata": {},
   "outputs": [],
   "source": [
    "data_frame_1.columns = [\"id\", \"title\", \"cast\", \"crew\"]"
   ]
  },
  {
   "cell_type": "code",
   "execution_count": 3,
   "id": "672008e1",
   "metadata": {},
   "outputs": [],
   "source": [
    "data_frame_2 = data_frame_2.merge(data_frame_1[[\"id\", \"cast\", \"crew\"]], on = \"id\")"
   ]
  },
  {
   "cell_type": "code",
   "execution_count": 4,
   "id": "5d8c3fd4",
   "metadata": {},
   "outputs": [],
   "source": [
    "C = data_frame_2[\"vote_average\"].mean()\n",
    "m = data_frame_2[\"vote_count\"].quantile(0.9)"
   ]
  },
  {
   "cell_type": "code",
   "execution_count": 5,
   "id": "1b862afc",
   "metadata": {},
   "outputs": [],
   "source": [
    "q_movies = data_frame_2.copy().loc[data_frame_2[\"vote_count\"] >= m]"
   ]
  },
  {
   "cell_type": "code",
   "execution_count": 6,
   "id": "f7e3a1dc",
   "metadata": {},
   "outputs": [],
   "source": [
    "def weighted_rating(x, m = m, C = C):\n",
    "    v = x[\"vote_count\"]\n",
    "    R = x[\"vote_average\"]\n",
    "    return (v / (v + m) * R) + (m / (m + v) * C)"
   ]
  },
  {
   "cell_type": "code",
   "execution_count": 7,
   "id": "22a6ddcb",
   "metadata": {},
   "outputs": [],
   "source": [
    "q_movies[\"score\"] = q_movies.apply(weighted_rating, axis = 1)"
   ]
  },
  {
   "cell_type": "code",
   "execution_count": 8,
   "id": "c0251579",
   "metadata": {},
   "outputs": [],
   "source": [
    "q_movies = q_movies.sort_values(\"score\", ascending = False)"
   ]
  },
  {
   "cell_type": "markdown",
   "id": "c0440a4c",
   "metadata": {},
   "source": [
    "## Content-Based Filtering (Story)"
   ]
  },
  {
   "cell_type": "code",
   "execution_count": 9,
   "id": "ffbc6bec",
   "metadata": {},
   "outputs": [],
   "source": [
    "from sklearn.feature_extraction.text import TfidfVectorizer"
   ]
  },
  {
   "cell_type": "code",
   "execution_count": 10,
   "id": "363eeae6",
   "metadata": {},
   "outputs": [],
   "source": [
    "tfidf = TfidfVectorizer(stop_words = \"english\")"
   ]
  },
  {
   "cell_type": "code",
   "execution_count": 11,
   "id": "f78fbcb6",
   "metadata": {},
   "outputs": [],
   "source": [
    "data_frame_2[\"overview\"] = data_frame_2[\"overview\"].fillna(\"\")"
   ]
  },
  {
   "cell_type": "code",
   "execution_count": 12,
   "id": "669331bf",
   "metadata": {},
   "outputs": [],
   "source": [
    "tfidf_matrix = tfidf.fit_transform(data_frame_2[\"overview\"])"
   ]
  },
  {
   "cell_type": "code",
   "execution_count": 13,
   "id": "5fd72fb8",
   "metadata": {},
   "outputs": [],
   "source": [
    "from sklearn.metrics.pairwise import linear_kernel"
   ]
  },
  {
   "cell_type": "code",
   "execution_count": 14,
   "id": "480329af",
   "metadata": {},
   "outputs": [],
   "source": [
    "cosine_sim = linear_kernel(tfidf_matrix, tfidf_matrix)"
   ]
  },
  {
   "cell_type": "code",
   "execution_count": 15,
   "id": "2a904a1b",
   "metadata": {},
   "outputs": [],
   "source": [
    "indices = pd.Series(data_frame_2.index, index = data_frame_2[\"title\"]).drop_duplicates()"
   ]
  },
  {
   "cell_type": "code",
   "execution_count": 16,
   "id": "03c0c9e3",
   "metadata": {},
   "outputs": [],
   "source": [
    "def get_recommendations(title, cosine_sim = cosine_sim):\n",
    "    idx = indices[title]\n",
    "    sim_scores = list(enumerate(cosine_sim[idx]))\n",
    "    sim_scores = sorted(sim_scores, key = lambda x: x[1], reverse = True)\n",
    "    sim_scores = sim_scores[1 : 11]\n",
    "    movie_indices = [i[0] for i in sim_scores]\n",
    "    \n",
    "    return data_frame_2[\"title\"].iloc[movie_indices]"
   ]
  },
  {
   "cell_type": "markdown",
   "id": "f251a4b4",
   "metadata": {},
   "source": [
    "## Content-Based Filtering (Cast, Crew, Keywords, etc.)"
   ]
  },
  {
   "cell_type": "code",
   "execution_count": 17,
   "id": "e3abf77e",
   "metadata": {},
   "outputs": [],
   "source": [
    "from ast import literal_eval\n",
    "features = [\"cast\", \"crew\", \"keywords\", \"genres\"]\n",
    "for feature in features:\n",
    "    data_frame_2[feature] = data_frame_2[feature].apply(literal_eval)"
   ]
  },
  {
   "cell_type": "code",
   "execution_count": 18,
   "id": "4f3f8bcd",
   "metadata": {},
   "outputs": [],
   "source": [
    "def get_director(input_data):\n",
    "    for i in input_data:\n",
    "        if i[\"job\"] == \"Director\":\n",
    "            return i[\"name\"]\n",
    "        \n",
    "    return np.nan"
   ]
  },
  {
   "cell_type": "code",
   "execution_count": 19,
   "id": "2d86eafb",
   "metadata": {},
   "outputs": [],
   "source": [
    "data_frame_2[\"director\"] = data_frame_2[\"crew\"].apply(get_director)"
   ]
  },
  {
   "cell_type": "code",
   "execution_count": 20,
   "id": "adbe2c3e",
   "metadata": {},
   "outputs": [],
   "source": [
    "def get_list(input_list):\n",
    "    if isinstance(input_list, list):\n",
    "        names = [i[\"name\"] for i in input_list]\n",
    "        if len(names) > 3:\n",
    "            names = names[:3]\n",
    "        return names\n",
    "    \n",
    "    return []"
   ]
  },
  {
   "cell_type": "code",
   "execution_count": 21,
   "id": "01664896",
   "metadata": {},
   "outputs": [],
   "source": [
    "features = [\"cast\", \"keywords\", \"genres\"]\n",
    "for feature in features:\n",
    "    data_frame_2[feature] = data_frame_2[feature].apply(get_list)"
   ]
  },
  {
   "cell_type": "code",
   "execution_count": 22,
   "id": "d3f56372",
   "metadata": {},
   "outputs": [],
   "source": [
    "def clean_data(input_val):\n",
    "    if isinstance(input_val, list):\n",
    "        return [str.lower(i.replace(\" \", \"\")) for i in input_val]\n",
    "    else:\n",
    "        if isinstance(input_val, str):\n",
    "            return str.lower(input_val.replace(\" \", \"\"))\n",
    "        else:\n",
    "            return \"\""
   ]
  },
  {
   "cell_type": "code",
   "execution_count": 23,
   "id": "04e54dfb",
   "metadata": {},
   "outputs": [],
   "source": [
    "features = [\"cast\", \"keywords\", \"director\", \"genres\"]\n",
    "for feature in features:\n",
    "    data_frame_2[feature] = data_frame_2[feature].apply(clean_data)"
   ]
  },
  {
   "cell_type": "code",
   "execution_count": 24,
   "id": "cd5b9be6",
   "metadata": {},
   "outputs": [],
   "source": [
    "def create_soup(input_val):\n",
    "    return ' '.join(input_val[\"keywords\"]) + \" \" + \" \".join(input_val[\"cast\"]) + \" \" + input_val[\"director\"] + \" \" + \" \".join(input_val[\"genres\"])\n",
    "data_frame_2[\"soup\"] = data_frame_2.apply(create_soup, axis = 1)"
   ]
  },
  {
   "cell_type": "code",
   "execution_count": 25,
   "id": "24aaeaa9",
   "metadata": {},
   "outputs": [],
   "source": [
    "from sklearn.feature_extraction.text import CountVectorizer\n",
    "count = CountVectorizer(stop_words = \"english\")\n",
    "count_matrix = count.fit_transform(data_frame_2[\"soup\"])"
   ]
  },
  {
   "cell_type": "code",
   "execution_count": 26,
   "id": "62f12e8f",
   "metadata": {},
   "outputs": [],
   "source": [
    "from sklearn.metrics.pairwise import cosine_similarity\n",
    "cosine_sim2 = cosine_similarity(count_matrix, count_matrix)"
   ]
  },
  {
   "cell_type": "code",
   "execution_count": 27,
   "id": "8c574b29",
   "metadata": {},
   "outputs": [],
   "source": [
    "data_frame_2 = data_frame_2.reset_index()\n",
    "indices = pd.Series(data_frame_2.index, index = data_frame_2[\"title\"])"
   ]
  },
  {
   "cell_type": "code",
   "execution_count": 31,
   "id": "e31cb1ab",
   "metadata": {},
   "outputs": [
    {
     "data": {
      "text/plain": [
       "867      The Godfather: Part III\n",
       "2731      The Godfather: Part II\n",
       "4638    Amidst the Devil's Wings\n",
       "2649           The Son of No One\n",
       "1525              Apocalypse Now\n",
       "1018             The Cotton Club\n",
       "1170     The Talented Mr. Ripley\n",
       "1209               The Rainmaker\n",
       "1394               Donnie Brasco\n",
       "1850                    Scarface\n",
       "Name: title, dtype: object"
      ]
     },
     "execution_count": 31,
     "metadata": {},
     "output_type": "execute_result"
    }
   ],
   "source": [
    "#get_recommendations(\"The Godfather\", cosine_sim2)"
   ]
  },
  {
   "cell_type": "code",
   "execution_count": null,
   "id": "0fe10750",
   "metadata": {},
   "outputs": [],
   "source": []
  },
  {
   "cell_type": "code",
   "execution_count": null,
   "id": "debf0301",
   "metadata": {},
   "outputs": [],
   "source": []
  },
  {
   "cell_type": "code",
   "execution_count": null,
   "id": "5a214ab0",
   "metadata": {},
   "outputs": [],
   "source": []
  },
  {
   "cell_type": "code",
   "execution_count": null,
   "id": "b5f8af42",
   "metadata": {},
   "outputs": [],
   "source": []
  },
  {
   "cell_type": "code",
   "execution_count": null,
   "id": "b0cfcfcf",
   "metadata": {},
   "outputs": [],
   "source": []
  },
  {
   "cell_type": "code",
   "execution_count": null,
   "id": "8ff5eeb6",
   "metadata": {},
   "outputs": [],
   "source": []
  }
 ],
 "metadata": {
  "kernelspec": {
   "display_name": "Python 3 (ipykernel)",
   "language": "python",
   "name": "python3"
  },
  "language_info": {
   "codemirror_mode": {
    "name": "ipython",
    "version": 3
   },
   "file_extension": ".py",
   "mimetype": "text/x-python",
   "name": "python",
   "nbconvert_exporter": "python",
   "pygments_lexer": "ipython3",
   "version": "3.9.12"
  }
 },
 "nbformat": 4,
 "nbformat_minor": 5
}
